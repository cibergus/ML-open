{
  "cells": [
    {
      "cell_type": "markdown",
      "metadata": {
        "id": "view-in-github",
        "colab_type": "text"
      },
      "source": [
        "<a href=\"https://colab.research.google.com/github/cibergus/ML-open/blob/main/Exercise_2_MNIST_Solution.ipynb\" target=\"_parent\"><img src=\"https://colab.research.google.com/assets/colab-badge.svg\" alt=\"Open In Colab\"/></a>"
      ]
    },
    {
      "cell_type": "code",
      "source": [
        "import torch\n",
        "from torch import nn, optim\n",
        "from torchvision import datasets, transforms\n",
        "\n",
        "torch.manual_seed(42);"
      ],
      "metadata": {
        "id": "oxed_3QSSzu8"
      },
      "execution_count": null,
      "outputs": []
    },
    {
      "cell_type": "code",
      "source": [
        "# Design NN model\n",
        "class Net(nn.Module):\n",
        "    def __init__(self):\n",
        "        super(Net, self).__init__()\n",
        "        self.features = nn.Sequential(\n",
        "                            nn.Conv2d(1, 32, 3, 1),\n",
        "                            nn.ReLU(),\n",
        "                            nn.Conv2d(32, 64, 3, 1),\n",
        "                            nn.ReLU(),\n",
        "                            nn.MaxPool2d(2),\n",
        "                            nn.Dropout(0.25),\n",
        "                            nn.Flatten()\n",
        "                        )\n",
        "        self.classifier = nn.Sequential(\n",
        "                            nn.Linear(9216, 128),\n",
        "                            nn.ReLU(),\n",
        "                            nn.Dropout(0.5),\n",
        "                            nn.Linear(128, 10),\n",
        "                            nn.LogSoftmax(1)\n",
        "                        )\n",
        "    \n",
        "    def forward(self, x):\n",
        "        x = self.features(x)\n",
        "        output =  self.classifier(x)\n",
        "        return output"
      ],
      "metadata": {
        "id": "k0g3XsXvXQ_c"
      },
      "execution_count": null,
      "outputs": []
    },
    {
      "cell_type": "code",
      "source": [
        "# Create NN\n",
        "model=Net()"
      ],
      "metadata": {
        "id": "oLA2Eu5jqwdp"
      },
      "execution_count": null,
      "outputs": []
    },
    {
      "cell_type": "code",
      "source": [
        "# Load and Pre-process Data\n",
        "transform=transforms.Compose([\n",
        "    transforms.ToTensor(),\n",
        "    transforms.Normalize((0.1307,), (0.3081,))\n",
        "    ])\n",
        "trainset = datasets.MNIST('../data', train=True, download=True,\n",
        "                    transform=transform)\n",
        "train_loader = torch.utils.data.DataLoader(trainset, \n",
        "                                           batch_size=64, \n",
        "                                           shuffle=True)"
      ],
      "metadata": {
        "id": "zXiWgj0eMzaK"
      },
      "execution_count": null,
      "outputs": []
    },
    {
      "cell_type": "code",
      "source": [
        "# Function to test model\n",
        "def test_model(model):\n",
        "    # Load Test Data\n",
        "    testset = datasets.MNIST('../data', train=False,\n",
        "                        transform=transform)\n",
        "    test_loader = torch.utils.data.DataLoader(testset, batch_size=1000)\n",
        "\n",
        "    model.eval()\n",
        "    device = next(model.parameters()).device\n",
        "\n",
        "    # Test model\n",
        "    correct = 0\n",
        "    with torch.no_grad():\n",
        "        for data, target in test_loader:\n",
        "            data, target = data.to(device), target.to(device)\n",
        "            output = model(data)\n",
        "            pred = output.argmax(dim=1, keepdim=True)\n",
        "            correct += pred.eq(target.view_as(pred)).sum().item()\n",
        "\n",
        "    # Print Accuracy\n",
        "    print('\\nTest set: Accuracy: {}/{} ({:.0f}%)\\n'.format(\n",
        "        correct, len(test_loader.dataset),\n",
        "        100. * correct / len(test_loader.dataset)))"
      ],
      "metadata": {
        "id": "pQ9MWjyoNhWA"
      },
      "execution_count": null,
      "outputs": []
    },
    {
      "cell_type": "code",
      "source": [
        "# Training (3+5)\n",
        "# 3 \n",
        "device = 'cuda' if torch.cuda.is_available() else 'cpu'\n",
        "\n",
        "loss_fn = nn.NLLLoss()\n",
        "optimizer = optim.Adadelta(model.parameters(), lr=1.0)\n",
        "model.train()\n",
        "model=model.to(device)\n",
        "\n",
        "for epoch in range(3):\n",
        "    for batch_idx, (batch_data, batch_target) in enumerate(train_loader):\n",
        "        # 5\n",
        "        batch_data, batch_target = batch_data.to(device), batch_target.to(device)\n",
        "        optimizer.zero_grad()\n",
        "        batch_output = model(batch_data)\n",
        "        loss = loss_fn(batch_output, batch_target)\n",
        "        loss.backward()\n",
        "        optimizer.step()\n",
        "        # print results\n",
        "        if batch_idx % 50 == 0:\n",
        "            print('Train Epoch: {} [{}/{} ({:.0f}%)]\\tLoss: {:.6f}'.format(\n",
        "                epoch+1, batch_idx * len(batch_data), len(train_loader.dataset),\n",
        "                100. * batch_idx / len(train_loader), loss.item()))\n",
        "    test_model(model)"
      ],
      "metadata": {
        "colab": {
          "base_uri": "https://localhost:8080/"
        },
        "id": "lpBbYTRgMIi1",
        "outputId": "bb3d4f56-fea6-44cc-afad-405739b8d57e"
      },
      "execution_count": null,
      "outputs": [
        {
          "output_type": "stream",
          "name": "stdout",
          "text": [
            "Train Epoch: 1 [0/60000 (0%)]\tLoss: 2.302757\n",
            "Train Epoch: 1 [3200/60000 (5%)]\tLoss: 0.706604\n",
            "Train Epoch: 1 [6400/60000 (11%)]\tLoss: 0.382178\n",
            "Train Epoch: 1 [9600/60000 (16%)]\tLoss: 0.241097\n",
            "Train Epoch: 1 [12800/60000 (21%)]\tLoss: 0.254778\n",
            "Train Epoch: 1 [16000/60000 (27%)]\tLoss: 0.103674\n",
            "Train Epoch: 1 [19200/60000 (32%)]\tLoss: 0.081223\n",
            "Train Epoch: 1 [22400/60000 (37%)]\tLoss: 0.079844\n",
            "Train Epoch: 1 [25600/60000 (43%)]\tLoss: 0.151108\n",
            "Train Epoch: 1 [28800/60000 (48%)]\tLoss: 0.048087\n",
            "Train Epoch: 1 [32000/60000 (53%)]\tLoss: 0.132572\n",
            "Train Epoch: 1 [35200/60000 (59%)]\tLoss: 0.234073\n",
            "Train Epoch: 1 [38400/60000 (64%)]\tLoss: 0.061808\n",
            "Train Epoch: 1 [41600/60000 (69%)]\tLoss: 0.110395\n",
            "Train Epoch: 1 [44800/60000 (75%)]\tLoss: 0.092767\n",
            "Train Epoch: 1 [48000/60000 (80%)]\tLoss: 0.049743\n",
            "Train Epoch: 1 [51200/60000 (85%)]\tLoss: 0.106271\n",
            "Train Epoch: 1 [54400/60000 (91%)]\tLoss: 0.053348\n",
            "Train Epoch: 1 [57600/60000 (96%)]\tLoss: 0.129635\n",
            "\n",
            "Test set: Accuracy: 9850/10000 (98%)\n",
            "\n",
            "Train Epoch: 2 [0/60000 (0%)]\tLoss: 0.003232\n",
            "Train Epoch: 2 [3200/60000 (5%)]\tLoss: 0.011799\n",
            "Train Epoch: 2 [6400/60000 (11%)]\tLoss: 0.004989\n",
            "Train Epoch: 2 [9600/60000 (16%)]\tLoss: 0.004927\n",
            "Train Epoch: 2 [12800/60000 (21%)]\tLoss: 0.021194\n",
            "Train Epoch: 2 [16000/60000 (27%)]\tLoss: 0.009094\n",
            "Train Epoch: 2 [19200/60000 (32%)]\tLoss: 0.062253\n",
            "Train Epoch: 2 [22400/60000 (37%)]\tLoss: 0.103493\n",
            "Train Epoch: 2 [25600/60000 (43%)]\tLoss: 0.081726\n",
            "Train Epoch: 2 [28800/60000 (48%)]\tLoss: 0.071093\n",
            "Train Epoch: 2 [32000/60000 (53%)]\tLoss: 0.067088\n",
            "Train Epoch: 2 [35200/60000 (59%)]\tLoss: 0.072398\n",
            "Train Epoch: 2 [38400/60000 (64%)]\tLoss: 0.030575\n",
            "Train Epoch: 2 [41600/60000 (69%)]\tLoss: 0.005073\n",
            "Train Epoch: 2 [44800/60000 (75%)]\tLoss: 0.020094\n",
            "Train Epoch: 2 [48000/60000 (80%)]\tLoss: 0.029796\n",
            "Train Epoch: 2 [51200/60000 (85%)]\tLoss: 0.017369\n",
            "Train Epoch: 2 [54400/60000 (91%)]\tLoss: 0.051849\n",
            "Train Epoch: 2 [57600/60000 (96%)]\tLoss: 0.068896\n",
            "\n",
            "Test set: Accuracy: 9888/10000 (99%)\n",
            "\n",
            "Train Epoch: 3 [0/60000 (0%)]\tLoss: 0.002342\n",
            "Train Epoch: 3 [3200/60000 (5%)]\tLoss: 0.006815\n",
            "Train Epoch: 3 [6400/60000 (11%)]\tLoss: 0.025372\n",
            "Train Epoch: 3 [9600/60000 (16%)]\tLoss: 0.005172\n",
            "Train Epoch: 3 [12800/60000 (21%)]\tLoss: 0.002700\n",
            "Train Epoch: 3 [16000/60000 (27%)]\tLoss: 0.005260\n",
            "Train Epoch: 3 [19200/60000 (32%)]\tLoss: 0.000501\n",
            "Train Epoch: 3 [22400/60000 (37%)]\tLoss: 0.049781\n",
            "Train Epoch: 3 [25600/60000 (43%)]\tLoss: 0.001767\n",
            "Train Epoch: 3 [28800/60000 (48%)]\tLoss: 0.029600\n",
            "Train Epoch: 3 [32000/60000 (53%)]\tLoss: 0.003998\n",
            "Train Epoch: 3 [35200/60000 (59%)]\tLoss: 0.000819\n",
            "Train Epoch: 3 [38400/60000 (64%)]\tLoss: 0.006384\n",
            "Train Epoch: 3 [41600/60000 (69%)]\tLoss: 0.018533\n",
            "Train Epoch: 3 [44800/60000 (75%)]\tLoss: 0.002915\n",
            "Train Epoch: 3 [48000/60000 (80%)]\tLoss: 0.000367\n",
            "Train Epoch: 3 [51200/60000 (85%)]\tLoss: 0.002840\n",
            "Train Epoch: 3 [54400/60000 (91%)]\tLoss: 0.020243\n",
            "Train Epoch: 3 [57600/60000 (96%)]\tLoss: 0.004266\n",
            "\n",
            "Test set: Accuracy: 9912/10000 (99%)\n",
            "\n"
          ]
        }
      ]
    },
    {
      "cell_type": "code",
      "source": [
        "# Save Model\n",
        "torch.save(model.state_dict(), \"mnist_cnn.pt\")"
      ],
      "metadata": {
        "id": "bmHGCeYJPI5k"
      },
      "execution_count": null,
      "outputs": []
    },
    {
      "cell_type": "markdown",
      "source": [
        "### This notebook is a modified version of the PyTorch MNIST Example [here](https://github.com/pytorch/examples/tree/main/mnist).\n",
        "\n",
        "Things to Try:\n",
        "- Run the example on Github in a local or server development environment with an IDE like VSCode, PyCharm. Notice how the authors use argparse to pass in configuration parameters.\n",
        "- Experiment with different NN model designs, loss functions, and optimizers.\n",
        "- View the data for examples that fail. Is anything wrong with the data, or are they just difficult examples?\n"
      ],
      "metadata": {
        "id": "7kO5GvdONScu"
      }
    }
  ],
  "metadata": {
    "accelerator": "GPU",
    "colab": {
      "name": "Exercise_2_MNIST_Solution.ipynb",
      "provenance": [],
      "collapsed_sections": [],
      "include_colab_link": true
    },
    "kernelspec": {
      "display_name": "Python 3",
      "name": "python3"
    },
    "language_info": {
      "name": "python"
    },
    "gpuClass": "standard"
  },
  "nbformat": 4,
  "nbformat_minor": 0
}